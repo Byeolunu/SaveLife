{
 "cells": [
  {
   "cell_type": "code",
   "execution_count": null,
   "id": "37eb2875",
   "metadata": {},
   "outputs": [
    {
     "data": {
      "text/plain": [
       "array([[1, 2, 2, 2, 4, 4, 4, 8],\n",
       "       [0, 1, 0, 0, 2, 2, 0, 4],\n",
       "       [0, 0, 1, 0, 2, 0, 2, 4],\n",
       "       [0, 0, 0, 1, 0, 2, 2, 4],\n",
       "       [0, 0, 0, 0, 1, 0, 0, 2],\n",
       "       [0, 0, 0, 0, 0, 1, 0, 2],\n",
       "       [0, 0, 0, 0, 0, 0, 1, 2],\n",
       "       [0, 0, 0, 0, 0, 0, 0, 1]])"
      ]
     },
     "execution_count": 2,
     "metadata": {},
     "output_type": "execute_result"
    },
    {
     "ename": "",
     "evalue": "",
     "output_type": "error",
     "traceback": [
      "\u001b[1;31mThe Kernel crashed while executing code in the current cell or a previous cell. \n",
      "\u001b[1;31mPlease review the code in the cell(s) to identify a possible cause of the failure. \n",
      "\u001b[1;31mClick <a href='https://aka.ms/vscodeJupyterKernelCrash'>here</a> for more info. \n",
      "\u001b[1;31mView Jupyter <a href='command:jupyter.viewOutput'>log</a> for further details."
     ]
    }
   ],
   "source": [
    "import numpy as np\n",
    "\n",
    "# Define the matrix\n",
    "A = np.array([\n",
    "    [1, 1, 1, 1, 1, 1, 1,1],\n",
    "    [0, 1, 0, 0, 1, 1, 0,1],\n",
    "    [0, 0, 1, 0, 1, 0, 1,1],\n",
    "    [0, 0, 0, 1, 0, 1, 1,1],\n",
    "    [0, 0, 0, 0, 1, 0, 0,1],\n",
    "    [0, 0, 0, 0, 0, 1, 0,1],\n",
    "    [0, 0, 0, 0, 0, 0, 1,1],\n",
    "    [0, 0, 0, 0, 0, 0, 0,1]\n",
    "\n",
    "])\n",
    "\n",
    "# Compute the square of the matrix\n",
    "A_squared = np.matmul(A, A)\n",
    "A_squared\n"
   ]
  }
 ],
 "metadata": {
  "kernelspec": {
   "display_name": "Python 3",
   "language": "python",
   "name": "python3"
  },
  "language_info": {
   "codemirror_mode": {
    "name": "ipython",
    "version": 3
   },
   "file_extension": ".py",
   "mimetype": "text/x-python",
   "name": "python",
   "nbconvert_exporter": "python",
   "pygments_lexer": "ipython3",
   "version": "3.11.9"
  }
 },
 "nbformat": 4,
 "nbformat_minor": 5
}
